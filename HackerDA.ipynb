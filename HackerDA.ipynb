{
 "cells": [
  {
   "cell_type": "code",
   "execution_count": 2,
   "id": "f31759e3",
   "metadata": {},
   "outputs": [
    {
     "name": "stdout",
     "output_type": "stream",
     "text": [
      "['id', 'title', 'url', 'num_points', 'num_comments', 'author', 'created_at']\n",
      "['12224879', 'Interactive Dynamic Video', 'http://www.interactivedynamicvideo.com/', '386', '52', 'ne0phyte', '8/4/2016 11:52']\n",
      "['10975351', 'How to Use Open Source and Shut the Fuck Up at the Same Time', 'http://hueniverse.com/2016/01/26/how-to-use-open-source-and-shut-the-fuck-up-at-the-same-time/', '39', '10', 'josep2', '1/26/2016 19:30']\n",
      "['11964716', \"Florida DJs May Face Felony for April Fools' Water Joke\", 'http://www.thewire.com/entertainment/2013/04/florida-djs-april-fools-water-joke/63798/', '2', '1', 'vezycash', '6/23/2016 22:20']\n",
      "['11919867', 'Technology ventures: From Idea to Enterprise', 'https://www.amazon.com/Technology-Ventures-Enterprise-Thomas-Byers/dp/0073523429', '3', '1', 'hswarna', '6/17/2016 0:01']\n"
     ]
    }
   ],
   "source": [
    "import csv\n",
    "\n",
    "# Reading the data\n",
    "opened_file = open('hacker_news.csv')\n",
    "read_file = csv.reader(opened_file)\n",
    "hn = list(read_file)\n",
    "\n",
    "# Display the first 5 rows\n",
    "for row in hn[:5]:\n",
    "    print(row)"
   ]
  },
  {
   "cell_type": "code",
   "execution_count": 3,
   "id": "58807470",
   "metadata": {},
   "outputs": [
    {
     "name": "stdout",
     "output_type": "stream",
     "text": [
      "['12224879', 'Interactive Dynamic Video', 'http://www.interactivedynamicvideo.com/', '386', '52', 'ne0phyte', '8/4/2016 11:52']\n",
      "['10975351', 'How to Use Open Source and Shut the Fuck Up at the Same Time', 'http://hueniverse.com/2016/01/26/how-to-use-open-source-and-shut-the-fuck-up-at-the-same-time/', '39', '10', 'josep2', '1/26/2016 19:30']\n",
      "['11964716', \"Florida DJs May Face Felony for April Fools' Water Joke\", 'http://www.thewire.com/entertainment/2013/04/florida-djs-april-fools-water-joke/63798/', '2', '1', 'vezycash', '6/23/2016 22:20']\n",
      "['11919867', 'Technology ventures: From Idea to Enterprise', 'https://www.amazon.com/Technology-Ventures-Enterprise-Thomas-Byers/dp/0073523429', '3', '1', 'hswarna', '6/17/2016 0:01']\n",
      "['10301696', 'Note by Note: The Making of Steinway L1037 (2007)', 'http://www.nytimes.com/2007/11/07/movies/07stein.html?_r=0', '8', '2', 'walterbell', '9/30/2015 4:12']\n"
     ]
    }
   ],
   "source": [
    "headers = hn[0]\n",
    "hn = hn[1:]\n",
    "\n",
    "for row in hn[:5]:\n",
    "    print(row)"
   ]
  },
  {
   "cell_type": "code",
   "execution_count": 5,
   "id": "c7a995dc",
   "metadata": {},
   "outputs": [
    {
     "name": "stdout",
     "output_type": "stream",
     "text": [
      "Number of Ask HN posts: 1744\n",
      "Number of Show HN posts: 1162\n",
      "Number of Other posts: 17194\n",
      "\n",
      "First 5 Ask HN Posts:\n",
      "['12296411', 'Ask HN: How to improve my personal website?', '', '2', '6', 'ahmedbaracat', '8/16/2016 9:55']\n",
      "\n",
      "['10610020', 'Ask HN: Am I the only one outraged by Twitter shutting down share counts?', '', '28', '29', 'tkfx', '11/22/2015 13:43']\n",
      "\n",
      "['11610310', 'Ask HN: Aby recent changes to CSS that broke mobile?', '', '1', '1', 'polskibus', '5/2/2016 10:14']\n",
      "\n",
      "['12210105', 'Ask HN: Looking for Employee #3 How do I do it?', '', '1', '3', 'sph130', '8/2/2016 14:20']\n",
      "\n",
      "['10394168', 'Ask HN: Someone offered to buy my browser extension from me. What now?', '', '28', '17', 'roykolak', '10/15/2015 16:38']\n",
      "\n",
      "First 5 Show HN Posts:\n",
      "['10627194', 'Show HN: Wio Link  ESP8266 Based Web of Things Hardware Development Platform', 'https://iot.seeed.cc', '26', '22', 'kfihihc', '11/25/2015 14:03']\n",
      "\n",
      "['10646440', 'Show HN: Something pointless I made', 'http://dn.ht/picklecat/', '747', '102', 'dhotson', '11/29/2015 22:46']\n",
      "\n",
      "['11590768', 'Show HN: Shanhu.io, a programming playground powered by e8vm', 'https://shanhu.io', '1', '1', 'h8liu', '4/28/2016 18:05']\n",
      "\n",
      "['12178806', 'Show HN: Webscope  Easy way for web developers to communicate with Clients', 'http://webscopeapp.com', '3', '3', 'fastbrick', '7/28/2016 7:11']\n",
      "\n",
      "['10872799', 'Show HN: GeoScreenshot  Easily test Geo-IP based web pages', 'https://www.geoscreenshot.com/', '1', '9', 'kpsychwave', '1/9/2016 20:45']\n",
      "\n"
     ]
    }
   ],
   "source": [
    "# Create empty lists for different types of posts\n",
    "ask_posts = []\n",
    "show_posts = []\n",
    "other_posts = []\n",
    "\n",
    "# Loop through each row in the dataset (hn)\n",
    "for row in hn:\n",
    "    title = row[1].lower()  # Get the title and convert it to lowercase\n",
    "    \n",
    "    if title.startswith('ask hn'):\n",
    "        ask_posts.append(row)  # Append to ask_posts if title starts with 'ask hn'\n",
    "    elif title.startswith('show hn'):\n",
    "        show_posts.append(row)  # Append to show_posts if title starts with 'show hn'\n",
    "    else:\n",
    "        other_posts.append(row)  # Append to other_posts otherwise\n",
    "\n",
    "# Check the number of posts in each list\n",
    "print('Number of Ask HN posts:', len(ask_posts))\n",
    "print('Number of Show HN posts:', len(show_posts))\n",
    "print('Number of Other posts:', len(other_posts))\n",
    "\n",
    "# Display the first 5 posts of Ask HN\n",
    "print('\\nFirst 5 Ask HN Posts:')\n",
    "for post in ask_posts[:5]:\n",
    "    print(post)\n",
    "    print()  # Add a newline for better readability\n",
    "\n",
    "# Display the first 5 posts of Show HN\n",
    "print('First 5 Show HN Posts:')\n",
    "for post in show_posts[:5]:\n",
    "    print(post)\n",
    "    print()  # Add a newline for better readability\n"
   ]
  },
  {
   "cell_type": "code",
   "execution_count": 6,
   "id": "838341e8",
   "metadata": {},
   "outputs": [
    {
     "name": "stdout",
     "output_type": "stream",
     "text": [
      "Average number of comments on Ask HN posts: 14.038417431192661\n",
      "Average number of comments on Show HN posts: 10.31669535283993\n"
     ]
    }
   ],
   "source": [
    "# Initialize variables\n",
    "total_ask_comments = 0\n",
    "total_show_comments = 0\n",
    "\n",
    "# Calculate total number of comments in ask_posts\n",
    "for post in ask_posts:\n",
    "    num_comments = int(post[4])  # Get the number of comments and convert to integer\n",
    "    total_ask_comments += num_comments  # Add to total_ask_comments\n",
    "\n",
    "# Compute the average number of comments in ask_posts\n",
    "avg_ask_comments = total_ask_comments / len(ask_posts)\n",
    "print('Average number of comments on Ask HN posts:', avg_ask_comments)\n",
    "\n",
    "# Calculate total number of comments in show_posts\n",
    "for post in show_posts:\n",
    "    num_comments = int(post[4])  # Get the number of comments and convert to integer\n",
    "    total_show_comments += num_comments  # Add to total_show_comments\n",
    "\n",
    "# Compute the average number of comments in show_posts\n",
    "avg_show_comments = total_show_comments / len(show_posts)\n",
    "print('Average number of comments on Show HN posts:', avg_show_comments)\n"
   ]
  },
  {
   "cell_type": "code",
   "execution_count": 7,
   "id": "95b3333e",
   "metadata": {},
   "outputs": [
    {
     "name": "stdout",
     "output_type": "stream",
     "text": [
      "Counts by hour: {'09': 45, '13': 85, '10': 59, '14': 107, '16': 108, '23': 68, '12': 73, '17': 100, '15': 116, '21': 109, '20': 80, '02': 58, '18': 109, '03': 54, '05': 46, '19': 110, '01': 60, '22': 71, '08': 48, '04': 47, '00': 55, '06': 44, '07': 34, '11': 58}\n",
      "Comments by hour: {'09': 251, '13': 1253, '10': 793, '14': 1416, '16': 1814, '23': 543, '12': 687, '17': 1146, '15': 4477, '21': 1745, '20': 1722, '02': 1381, '18': 1439, '03': 421, '05': 464, '19': 1188, '01': 683, '22': 479, '08': 492, '04': 337, '00': 447, '06': 397, '07': 267, '11': 641}\n"
     ]
    }
   ],
   "source": [
    "import datetime as dt\n",
    "\n",
    "# Create an empty list for storing date and comment data\n",
    "result_list = []\n",
    "\n",
    "# Iterate over ask_posts to fill result_list\n",
    "for row in ask_posts:\n",
    "    created_at = row[6]  # Get the created_at column (index 6)\n",
    "    num_comments = int(row[4])  # Get the number of comments (index 4)\n",
    "    result_list.append([created_at, num_comments])  # Append to result_list\n",
    "\n",
    "# Create empty dictionaries for counts and comments by hour\n",
    "counts_by_hour = {}\n",
    "comments_by_hour = {}\n",
    "\n",
    "# Process each row in result_list\n",
    "for row in result_list:\n",
    "    created_at = row[0]  # The datetime string\n",
    "    num_comments = row[1]  # Number of comments\n",
    "    \n",
    "    # Parse the datetime string into a datetime object\n",
    "    dt_object = dt.datetime.strptime(created_at, '%m/%d/%Y %H:%M')\n",
    "    \n",
    "    # Extract the hour from the datetime object\n",
    "    hour = dt_object.strftime('%H')\n",
    "    \n",
    "    # Update counts_by_hour and comments_by_hour dictionaries\n",
    "    if hour not in counts_by_hour:\n",
    "        counts_by_hour[hour] = 1\n",
    "        comments_by_hour[hour] = num_comments\n",
    "    else:\n",
    "        counts_by_hour[hour] += 1\n",
    "        comments_by_hour[hour] += num_comments\n",
    "\n",
    "# Print out the dictionaries for verification\n",
    "print('Counts by hour:', counts_by_hour)\n",
    "print('Comments by hour:', comments_by_hour)\n"
   ]
  },
  {
   "cell_type": "code",
   "execution_count": 8,
   "id": "8730d1df",
   "metadata": {},
   "outputs": [
    {
     "name": "stdout",
     "output_type": "stream",
     "text": [
      "[['09', 5.5777777777777775], ['13', 14.741176470588234], ['10', 13.440677966101696], ['14', 13.233644859813085], ['16', 16.796296296296298], ['23', 7.985294117647059], ['12', 9.41095890410959], ['17', 11.46], ['15', 38.5948275862069], ['21', 16.009174311926607], ['20', 21.525], ['02', 23.810344827586206], ['18', 13.20183486238532], ['03', 7.796296296296297], ['05', 10.08695652173913], ['19', 10.8], ['01', 11.383333333333333], ['22', 6.746478873239437], ['08', 10.25], ['04', 7.170212765957447], ['00', 8.127272727272727], ['06', 9.022727272727273], ['07', 7.852941176470588], ['11', 11.051724137931034]]\n"
     ]
    }
   ],
   "source": [
    "# Initialize the list to store average comments per hour\n",
    "avg_by_hour = []\n",
    "\n",
    "# Calculate the average number of comments per post for each hour\n",
    "for hour in counts_by_hour:\n",
    "    avg_comments = comments_by_hour[hour] / counts_by_hour[hour]\n",
    "    avg_by_hour.append([hour, avg_comments])\n",
    "\n",
    "# Display the results\n",
    "print(avg_by_hour)\n"
   ]
  },
  {
   "cell_type": "code",
   "execution_count": 9,
   "id": "98aa5515",
   "metadata": {},
   "outputs": [
    {
     "name": "stdout",
     "output_type": "stream",
     "text": [
      "Top 5 Hours for Ask Posts Comments\n",
      "15:00: 38.59 average comments per post\n",
      "02:00: 23.81 average comments per post\n",
      "20:00: 21.52 average comments per post\n",
      "16:00: 16.80 average comments per post\n",
      "21:00: 16.01 average comments per post\n"
     ]
    }
   ],
   "source": [
    "import datetime as dt\n",
    "\n",
    "# 1. Create swap_avg_by_hour by swapping columns\n",
    "swap_avg_by_hour = [[row[1], row[0]] for row in avg_by_hour]\n",
    "\n",
    "# 2. Sort swap_avg_by_hour by average number of comments in descending order\n",
    "sorted_swap = sorted(swap_avg_by_hour, reverse=True)\n",
    "\n",
    "# 3. Print the top 5 hours with the highest average number of comments\n",
    "print(\"Top 5 Hours for Ask Posts Comments\")\n",
    "for avg, hour in sorted_swap[:5]:\n",
    "    # Convert the hour to 24-hour time format\n",
    "    formatted_time = dt.datetime.strptime(hour, '%H').strftime('%H:%M')\n",
    "    # Print the formatted result with average comments to 2 decimal places\n",
    "    print(f\"{formatted_time}: {avg:.2f} average comments per post\")\n"
   ]
  }
 ],
 "metadata": {
  "kernelspec": {
   "display_name": "Python 3 (ipykernel)",
   "language": "python",
   "name": "python3"
  },
  "language_info": {
   "codemirror_mode": {
    "name": "ipython",
    "version": 3
   },
   "file_extension": ".py",
   "mimetype": "text/x-python",
   "name": "python",
   "nbconvert_exporter": "python",
   "pygments_lexer": "ipython3",
   "version": "3.9.7"
  }
 },
 "nbformat": 4,
 "nbformat_minor": 5
}
